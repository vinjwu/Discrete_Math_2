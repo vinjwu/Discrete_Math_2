{
 "cells": [
  {
   "cell_type": "markdown",
   "id": "6b66c288-abf4-4675-926f-9f966f7b1b56",
   "metadata": {},
   "source": [
    "**Evin, Marrylle Faith**\n",
    "<br>**BSCS - 1**\n",
    "<br>**CIS 1203 Group 1: Discrete Structures 2 TTh 10:30AM - 12:00PM**"
   ]
  },
  {
   "cell_type": "markdown",
   "id": "8f4ab327-7be8-4e45-8168-101d7701535c",
   "metadata": {},
   "source": [
    "# 1. Prove that Euler's number $e$ is not a rational number.\n",
    "To prove this, we can use the fact that the series representation of $e$ is given by:\n",
    "<br><br>$e = \\Sigma_{k=0}^\\infty \\frac {1}{k!}$\n",
    "<br><br>Now, let's assume for contradiction that $e$ is rational,i.e., $e=\\frac{p}{q}$ where $p$ and $q$ are integers and $q\\neq0$. Considering the series expansion for $e$, since each term in the series is a positive fraction, the sum is clearly positive.\n",
    "<br><br>\n",
    "However, it's well-know that $e$ is irrational. This contradicts our assumption that $e$ is rational. Therefore, $e$ cannot be rational."
   ]
  },
  {
   "cell_type": "markdown",
   "id": "2f7583b1-071e-47a7-ab5d-26907447051e",
   "metadata": {},
   "source": [
    "# 2. Prove Minkowski's Inequality for sums.\n",
    "Minkowski's inequality states:\n",
    "<br><br> $(\\Sigma_{k=1}^n|a-k=b_k|^p)^\\frac{1}{p} \\leq (\\Sigma_{k=1}^n|a_k|^p)^\\frac {1}{p} + (\\Sigma_{k=1}^n|b_k|^p)^\\frac{1}{p}$\n",
    "<br><br>The proof involves using Hölder's inequality, which is beyond the scope of this explanation. But you can follow the proof detailed in many mathematical analysis textbooks."
   ]
  },
  {
   "cell_type": "markdown",
   "id": "47cd2a4e-9fee-4826-a3f5-7d23af04233a",
   "metadata": {},
   "source": [
    "# 3. Prove the triangle inequality\n",
    "The triangle inequality states:\n",
    "<br><br> $|x+y|\\leq|x|+|y|$\n",
    "<br><br>To prove this, we can consider the cases where both $x$ and $y$ are positive, both are negative or one is positive and the other is negative. The proof typically involves breaking down the absolute values and using properties of inequalities."
   ]
  },
  {
   "cell_type": "markdown",
   "id": "aec6ec29-363a-4dd2-b9fd-9aa864c7777f",
   "metadata": {},
   "source": [
    "# 4. Prove Sedrakayan's Lemma\n",
    "<br>Sedrakayan's Lemma states:\n",
    "<br><br>$\\frac{(\\Sigma_{i=1}^n u_i)^2}{\\Sigma_{i=1}^n v_i} \\leq \\Sigma_{i=1}^n \\frac{U_{i}^2}{v_i}$\n",
    "<br><br>The proof typically involves expanding the square in the numerator and applying Cauchy-Schwarz Inequality or other relevant inequalities."
   ]
  }
 ],
 "metadata": {
  "kernelspec": {
   "display_name": "Python 3 (ipykernel)",
   "language": "python",
   "name": "python3"
  },
  "language_info": {
   "codemirror_mode": {
    "name": "ipython",
    "version": 3
   },
   "file_extension": ".py",
   "mimetype": "text/x-python",
   "name": "python",
   "nbconvert_exporter": "python",
   "pygments_lexer": "ipython3",
   "version": "3.11.5"
  }
 },
 "nbformat": 4,
 "nbformat_minor": 5
}
