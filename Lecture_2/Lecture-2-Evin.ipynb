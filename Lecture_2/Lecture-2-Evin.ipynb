{
 "cells": [
  {
   "cell_type": "markdown",
   "id": "31c07b76-4c00-4ecf-a430-41740a81aa93",
   "metadata": {},
   "source": [
    "**Evin, Marrylle Faith**\n",
    "<br>**BSCS - 1**\n",
    "<br>**CIS 1203 Group 2: Discrete Structures 2 TTh 10:30AM - 12:00PM**"
   ]
  },
  {
   "cell_type": "markdown",
   "id": "157f6c38-bd0e-4923-8234-8506082318fc",
   "metadata": {},
   "source": [
    "# Task 1:\n",
    "**Question 1: Show that the expected value $E[y]=\\Sigma y \\bullet P(y) = n \\bullet p_i$**\n",
    "<br>To prove this, let's start with the definition of expected value:\n",
    "<br><br> $E[y] = \\Sigma y \\bullet P(y)$\n",
    "<br><br>Given the joint probability distribution $P(y) = \\frac{n!}{y_1!y_2!...y_n!}$ $P_1^{y_1}P_2^{y_2}P_3^{y_3}$, we can substitute this into the expression for expected values and simplify to get $n\\bullet p_i$.\n",
    "<br><br>\n",
    "**Question 2: Given the following data**\n",
    "To find the expected value for obtaining a person aged 65 and above, we need to calculate the expected number of individuals in the sample who fall into the age group 65 and above.\n",
    "<br><br> Given the proportions provided for each age group, we multiply the proportions of 65-100 age group by the total number of adults sampled $500$ to find the expected number of individuals in that age group:\n",
    "<br><br>*Expected value = Proportions of 65-100 age group x Total number of adults sampled*\n",
    "<br><br>From the Given Data:\n",
    "<br>*Proportion of 65-100 age group = **0.16***\n",
    "<br>*Total number of adults sampled = **500***\n",
    "<br><br>Substituting the values into the formula:\n",
    "<br>*Expected value = 0.16 x 500 = **80***\n",
    "<br>So, the expected values for obtaining a person aged 65 and above is 80."
   ]
  },
  {
   "cell_type": "markdown",
   "id": "63a66ddd-9153-44f2-b4d8-917bcf872fb9",
   "metadata": {},
   "source": [
    "# Task 2:\n",
    "**Question 1: From the following steps shown...**\n",
    "<br>To derive the probability distribution, we use the binomial distribution formula:\n",
    "<br>$P(Y =y)=(_y^n)p^y(1-p)^{n-y}$\n",
    "<br>Where:\n",
    "<br>$\\bullet$ $P(Y=y)$ is the probability of observing $y$ successes in $n$ trials.\n",
    "<br>$\\bullet$ $(_y^n)$ is the binomial coefficient.\n",
    "<br>$\\bullet$ $p$ is the probability of success in a single trial, and $(1-o)$ is the probability of failure.\n",
    "<br>\n",
    "<br><br>\n",
    "**Question 2: Show that the expection of this probability distribution is $E[y]=\\Sigma y \\bullet P(y)=np$**\n",
    "<br>To show that the expectation $E[y]$ of the binomial distribution is$np$, we can use the definition of expectation:\n",
    "<br>$E[y]=\\Sigma y \\bullet P(y)$\n",
    "<br><br>Substituting the probability mass function (PMF) of the binomial distribution, which is:\n",
    "<br>$P(Y+=y)=(_y^n) p^y (1-p)^{n-y}$\n",
    "<br><br>We have:\n",
    "<br>$E[y]= \\Sigma_{y=0}^n y \\bullet (_y^n) p^y(1-p)^{n-y}$\n",
    "<br><br>By expanding this expression, we obtain:\n",
    "<br>$E[y] = \\Sigma_{y=0}^n y \\bullet \\frac{n!}{y!(n-y)!} p^y (1-p)^{n-y}$\n",
    "<br><br>$E[y] = \\Sigma_{y=0}^n \\frac{n!}{(y-1)!(n-y)!} p^y (1-p)^{n-y}$\n",
    "<br><br>$E[y] = \\Sigma_{y=1}^n \\frac{n!}{(y-1)!(n-y)!} p^y (1-p)^{n-y}$\n",
    "<br><br>$E[y] = np \\Sigma_{y=1}^n (_{y-1}^{n-1}) p^{y-1} (1-p)^{(n-1)-(y-1)}$\n",
    "<br><br>$E[y] = np \\Sigma_{y=0}^{n-1}(_y^{n-1})p^y(1-p)^{n-1-y}$\n",
    "<br><br>Notice that this sum is the extension of $(p+(1-p))^{n-1}$, which equals 1. Hence, we have:\n",
    "<br>$E[y]=np$\n",
    "<br>This demonstrates that the expectation $E[y]$ of the binomial distribution is indeed $np$.\n",
    "<br><br>**Question 3: What is the probability that at least nine of ten receiving the medication will recover?**\n",
    "<br>Given that the medication is worthless, the probability of success $(p)$ is 0.3 and the number of trials $(n)$ is 10. We want to calculate the probability of having 9 or 10 successes out of 10 trials.\n",
    "<br>Using the binomial probability formula:\n",
    "<br><br>$P(Y=y)= (_y^{10})$ x $(0.3)^y$ x $(1-0.3)^{10-y}$\n",
    "<br><br>We need to calculate:\n",
    "<br><br>$P(Y=9) + P(Y=10)$\n",
    "<br>$=(_9^{10})$ x $(0.3)^9$ x $(1-0.3)^{10-9}+(_{10}^{10}$ x $(0.3)^{10}$ x $(1-0.3)^{10-10}$\n",
    "<br>$=10$ x $(0.3)^9$ x $(0.7)^1+1$ x $(0.3)^10$ x $(0.7)^0$\n",
    "<br>$=10$ x $(0.3)^9$ x $0.7+1$ x $(0.3)^{10}$ x $1$\n",
    "<br>$\\approx 0.2683=0.00001$\n",
    "<br>$\\approx$ **0.2683**\n",
    "<br><br>**Question 4: Find the probability of observing at least one defective fuse out of a sample of 5 fuses.**\n",
    "<br>The probability of observing at least on defective fuse is equal to 1 minus the probability of observing no defective fuses in the sample.\n",
    "<br><br>Guven that the lot contains 5% defectives, the probability of a fuse being defective $(p)$ is 0.05.\n",
    "<br><br>Using the binomial probability formula:\n",
    "<br><br>$P(Y=0)=(_0^5)$ x $(0.05)^0$ x $(1-0.05)^{5-0}$\n",
    "<br>$=(_0^5)$ x $1$ x $0.95^5$\n",
    "<br>$\\approx 0.77378$\n",
    "<br><br>So, the probability of observing at least one defective fuse is:\n",
    "<br>$P$ *(at least one defective)* $=1-P(Y=0)$\n",
    "<br>$=1-0.77378$\n",
    "<br>$\\approx 0.22622$\n",
    "<br>Therefore, the probability of observing at least one defective fuse out of a sample of 5 fuses is approximately **0.22622**"
   ]
  },
  {
   "cell_type": "markdown",
   "id": "f62abfec-130d-441c-a107-fcfbef6decdc",
   "metadata": {},
   "source": [
    "# Task 3:\n",
    "**Question 1: Find the general formula for the expected value of this distribution.**\n",
    "<br>To find the expected value $E[y]$ of the probability distribution $p(y)= \\frac{\\lambda^y}{y!}e^{-\\lambda}$, we use the definition of expected value:\n",
    "<br>$E[y] = \\Sigma_{y=0}^\\infty y \\bullet p(y)$\n",
    "<br><br>Substituting the given probability distribution into the formula:\n",
    "<br>$E[y]= \\Sigma_{y=0}^\\infty y \\bullet \\frac{\\lambda^y}{y!} e^{- \\lambda}$\n",
    "<br><br>We can simplify this expression by rearranging terms and using the fact that $y!=y \\bullet (y-1)$.\n",
    "<br><br>$E[y] = \\Sigma_{y=1}^\\infty \\frac{\\lambda^y}{(y-1)!}e{- \\lambda}$\n",
    "<br>$E[y] = e^{- \\lambda} \\Sigma_{y=1}^\\infty \\frac{\\lambda^y}{(y-1)!}$\n",
    "<br>$E[y] = e^{- \\lambda} \\lambda \\Sigma_{y=1}^\\infty \\frac {\\lambda^{y-1}}{(y-1)!}$\n",
    "<br>$E[y] = e^{- \\lambda} \\lambda \\Sigma_{k=0}^\\infty \\frac {\\lambda^k}{k!}$\n",
    "<br>$E[y] = e^{- \\lambda} \\lambda e^\\lambda$\n",
    "<br>$E[y] = \\lambda$\n",
    "<br>So, the general formula for the expected value of this distribution $E[y] = \\lambda$.\n",
    "<br><br>**Question 2: A certain type of tree has seedlings randomly in a large area...**\n",
    "<br>To find the probability that none of the ten 1-square-yard sampling regions will contain seedlings, we can use the probability distribution given by $p(y)= \\frac{\\lambda^y}{y1} e^{-\\lambda}$, where $\\lambda = 5$.\n",
    "<br><br>Since we want to find the probability that none of the regions will contain seedlings $(y=0)$, we substitute $y=0$ into the probability distribution:\n",
    "<br>$p(y=0)= \\frac {5^0}{0!} e^{-5} = e^{-5}$\n",
    "<br>Now, since the sampling regions are independent, the probability that none of the regions contain seedlings is the product of the probabilities of each region not containing seedlings. Therefore, the probability that none of the ten regions contain seedlings is:\n",
    "<br>$P$ *(none contain seedlings)* $= (e^{-5})^{10} = e^{e-50}$\n",
    "<br>$\\approx 1.93$ x $10^{-22}$\n",
    "<br>So, the probability that none of the ten 1-square-yard sampling region will contain seedlings is approximately **1.93 x 10$^{-22}$.**"
   ]
  },
  {
   "cell_type": "markdown",
   "id": "7aa07058-073b-4059-a745-cc107442b626",
   "metadata": {},
   "source": []
  }
 ],
 "metadata": {
  "kernelspec": {
   "display_name": "Python 3 (ipykernel)",
   "language": "python",
   "name": "python3"
  },
  "language_info": {
   "codemirror_mode": {
    "name": "ipython",
    "version": 3
   },
   "file_extension": ".py",
   "mimetype": "text/x-python",
   "name": "python",
   "nbconvert_exporter": "python",
   "pygments_lexer": "ipython3",
   "version": "3.11.5"
  }
 },
 "nbformat": 4,
 "nbformat_minor": 5
}
